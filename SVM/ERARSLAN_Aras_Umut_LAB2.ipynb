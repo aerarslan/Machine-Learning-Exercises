{
 "cells": [
  {
   "cell_type": "markdown",
   "metadata": {},
   "source": [
    "# Clothes Classification with Support Vector Machines\n",
    "\n",
    "In this notebook we are going to explore the use of Support Vector Machines (SVM) for image classification. We will use a new version of the famous MNIST dataset (the original is a dataset of handwritten digits). The version we are going to use is called Fashion MNIST (https://pravarmahajan.github.io/fashion/) and is a dataset of small images of clothes and accessories.\n",
    "\n",
    "\n",
    "\n",
    "The dataset labels are the following:\n",
    "\n",
    "| Label | Description |\n",
    "| --- | --- |\n",
    "| 0 | T-shirt/top |\n",
    "| 1 | Trouser |\n",
    "| 2 | Pullover |\n",
    "| 3 | Dress |\n",
    "| 4 | Coat |\n",
    "| 5 | Sandal |\n",
    "| 6 | Shirt |\n",
    "| 7 | Sneaker |\n",
    "| 8 | Bag |\n",
    "| 9 | Ankle boot |"
   ]
  },
  {
   "cell_type": "markdown",
   "metadata": {},
   "source": [
    "## TODO: Insert your surname, name and ID number\n",
    "\n",
    "Student surname: ERARSLAN\n",
    "\n",
    "Student name: Aras Umut\n",
    "    \n",
    "ID: 2005627"
   ]
  },
  {
   "cell_type": "code",
   "execution_count": 1,
   "metadata": {},
   "outputs": [],
   "source": [
    "#load the required packages\n",
    "\n",
    "%matplotlib inline  \n",
    "\n",
    "import numpy as np\n",
    "import scipy as sp\n",
    "import matplotlib.pyplot as plt\n",
    "\n",
    "import sklearn\n",
    "from sklearn.datasets import fetch_openml\n",
    "from sklearn.neural_network import MLPClassifier\n",
    "from sklearn.decomposition import PCA\n",
    "import sklearn.metrics as skm"
   ]
  },
  {
   "cell_type": "code",
   "execution_count": 2,
   "metadata": {},
   "outputs": [],
   "source": [
    "# helper function to load Fashion MNIST dataset\n",
    "def load_mnist(path, kind='train'):\n",
    "    import os\n",
    "    import gzip\n",
    "    import numpy as np\n",
    "    labels_path = os.path.join(path, '%s-labels-idx1-ubyte.gz' % kind)\n",
    "    images_path = os.path.join(path, '%s-images-idx3-ubyte.gz' % kind)\n",
    "    with gzip.open(labels_path, 'rb') as lbpath:\n",
    "        labels = np.frombuffer(lbpath.read(), dtype=np.uint8,offset=8)\n",
    "    with gzip.open(images_path, 'rb') as imgpath:\n",
    "        images = np.frombuffer(imgpath.read(), dtype=np.uint8,offset=16).reshape(len(labels), 784)\n",
    "    return images, labels"
   ]
  },
  {
   "cell_type": "code",
   "execution_count": 3,
   "metadata": {},
   "outputs": [],
   "source": [
    "#fix your ID (\"numero di matricola\") and the seed for random generator (as usual you can try different seeds)\n",
    "ID = 2005627\n",
    "np.random.seed(ID)"
   ]
  },
  {
   "cell_type": "code",
   "execution_count": 4,
   "metadata": {},
   "outputs": [
    {
     "name": "stdout",
     "output_type": "stream",
     "text": [
      "(60000, 784) (60000,)\n"
     ]
    }
   ],
   "source": [
    "#load the Fashion MNIST dataset from the 'data' folder and let's normalize the features so that each value is in [0,1] \n",
    "\n",
    "X, y = load_mnist('data', kind='train')\n",
    "# rescale the data\n",
    "X, y = X / 255., y # original pixel values are between 0 and 255\n",
    "print(X.shape, y.shape)"
   ]
  },
  {
   "cell_type": "markdown",
   "metadata": {},
   "source": [
    "Now split into training and test. Make sure that each label is present at least 10 times\n",
    "in training. If it is not, then keep adding permutations to the initial data until this \n",
    "happens."
   ]
  },
  {
   "cell_type": "code",
   "execution_count": 5,
   "metadata": {},
   "outputs": [
    {
     "name": "stdout",
     "output_type": "stream",
     "text": [
      "Labels in training dataset:  [0 1 2 3 4 5 6 7 8 9]\n",
      "Frequencies in training dataset:  [71 64 59 72 66 54 53 48 54 59]\n"
     ]
    }
   ],
   "source": [
    "# Random permute the data and split into training and test taking the first 600\n",
    "# data samples as training and 4000 samples as test\n",
    "permutation = np.random.permutation(X.shape[0])\n",
    "\n",
    "X = X[permutation]\n",
    "y = y[permutation]\n",
    "\n",
    "m_training = 600\n",
    "m_test = 4000\n",
    "\n",
    "X_train, X_test = X[:m_training], X[m_training:m_training+m_test:]\n",
    "y_train, y_test = y[:m_training], y[m_training:m_training+m_test:]\n",
    "\n",
    "labels, freqs = np.unique(y_train, return_counts=True)\n",
    "print(\"Labels in training dataset: \", labels)\n",
    "print(\"Frequencies in training dataset: \", freqs)\n"
   ]
  },
  {
   "cell_type": "code",
   "execution_count": 6,
   "metadata": {},
   "outputs": [],
   "source": [
    "#function for plotting a image and printing the corresponding label\n",
    "def plot_input(X_matrix, labels, index):\n",
    "    print(\"INPUT:\")\n",
    "    plt.imshow(\n",
    "        X_matrix[index].reshape(28,28),\n",
    "        cmap          = plt.cm.gray_r,\n",
    "        interpolation = \"nearest\"\n",
    "    )\n",
    "    plt.show()\n",
    "    print(\"LABEL: %i\"%labels[index])\n",
    "    return"
   ]
  },
  {
   "cell_type": "code",
   "execution_count": 7,
   "metadata": {},
   "outputs": [
    {
     "name": "stdout",
     "output_type": "stream",
     "text": [
      "INPUT:\n"
     ]
    },
    {
     "data": {
      "image/png": "[encoded data removed]",
      "text/plain": [
       "<Figure size 432x288 with 1 Axes>"
      ]
     },
     "metadata": {
      "needs_background": "light"
     },
     "output_type": "display_data"
    },
    {
     "name": "stdout",
     "output_type": "stream",
     "text": [
      "LABEL: 2\n",
      "INPUT:\n"
     ]
    },
    {
     "data": {
      "image/png": "[encoded data removed]",
      "text/plain": [
       "<Figure size 432x288 with 1 Axes>"
      ]
     },
     "metadata": {
      "needs_background": "light"
     },
     "output_type": "display_data"
    },
    {
     "name": "stdout",
     "output_type": "stream",
     "text": [
      "LABEL: 2\n",
      "INPUT:\n"
     ]
    },
    {
     "data": {
      "image/png": "[encoded data removed]",
      "text/plain": [
       "<Figure size 432x288 with 1 Axes>"
      ]
     },
     "metadata": {
      "needs_background": "light"
     },
     "output_type": "display_data"
    },
    {
     "name": "stdout",
     "output_type": "stream",
     "text": [
      "LABEL: 9\n",
      "INPUT:\n"
     ]
    },
    {
     "data": {
      "image/png": "[encoded data removed]",
      "text/plain": [
       "<Figure size 432x288 with 1 Axes>"
      ]
     },
     "metadata": {
      "needs_background": "light"
     },
     "output_type": "display_data"
    },
    {
     "name": "stdout",
     "output_type": "stream",
     "text": [
      "LABEL: 2\n"
     ]
    }
   ],
   "source": [
    "import random\n",
    "\n",
    "#let's try the plotting function\n",
    "plot_input(X_train,y_train,random.randrange(10)) #show random images\n",
    "plot_input(X_test,y_test,random.randrange(700))\n",
    "plot_input(X_test,y_test,random.randrange(700))\n",
    "plot_input(X_test,y_test,random.randrange(700))"
   ]
  },
  {
   "cell_type": "markdown",
   "metadata": {},
   "source": [
    "## TO DO 1\n",
    "Use a SVM classifier with cross validation to pick a model. Use a 4-fold cross-validation. Let's start with a Linear kernel:"
   ]
  },
  {
   "cell_type": "code",
   "execution_count": 9,
   "metadata": {},
   "outputs": [
    {
     "name": "stdout",
     "output_type": "stream",
     "text": [
      "RESULTS FOR LINEAR KERNEL\n",
      "Best parameters set found:\n",
      "{'C': 0.1}\n",
      "Score with best parameters:\n",
      "0.7999999999999999\n",
      "All scores on the grid:\n",
      "   mean_fit_time  std_fit_time  mean_score_time  std_score_time param_C  \\\n",
      "0       0.213434      0.009952         0.049617        0.002579   0.001   \n",
      "1       0.105468      0.004194         0.036402        0.000499    0.01   \n",
      "2       0.081037      0.002268         0.031167        0.001087     0.1   \n",
      "3       0.085023      0.002271         0.030917        0.001222       1   \n",
      "4       0.085272      0.001496         0.031665        0.001475      10   \n",
      "5       0.085023      0.002579         0.031416        0.001115     100   \n",
      "\n",
      "         params  split0_test_score  split1_test_score  split2_test_score  \\\n",
      "0  {'C': 0.001}           0.633333           0.620000           0.613333   \n",
      "1   {'C': 0.01}           0.780000           0.760000           0.820000   \n",
      "2    {'C': 0.1}           0.786667           0.786667           0.820000   \n",
      "3      {'C': 1}           0.766667           0.773333           0.773333   \n",
      "4     {'C': 10}           0.766667           0.773333           0.773333   \n",
      "5    {'C': 100}           0.766667           0.773333           0.773333   \n",
      "\n",
      "   split3_test_score  mean_test_score  std_test_score  rank_test_score  \n",
      "0           0.586667         0.613333        0.016997                6  \n",
      "1           0.806667         0.791667        0.023274                2  \n",
      "2           0.806667         0.800000        0.014142                1  \n",
      "3           0.766667         0.770000        0.003333                3  \n",
      "4           0.766667         0.770000        0.003333                3  \n",
      "5           0.766667         0.770000        0.003333                3  \n",
      "0.9633333333333334\n"
     ]
    }
   ],
   "source": [
    "#import SVC\n",
    "from sklearn.svm import SVC\n",
    "#import for Cross-Validation\n",
    "from sklearn.model_selection import GridSearchCV\n",
    "import pandas as pd\n",
    "\n",
    "# parameters for linear SVM\n",
    "parameters = {'C': [0.001, 0.01, 0.1, 1, 10, 100]}\n",
    "\n",
    "#train linear SVM\n",
    "\n",
    "grid = GridSearchCV(SVC(kernel = 'linear'), parameters, refit = True, verbose = 0, cv=4) # cv 4 means 4 fold, verbose is to print training\n",
    "grid.fit(X_train,y_train)\n",
    "\n",
    "print ('RESULTS FOR LINEAR KERNEL')\n",
    "\n",
    "print(\"Best parameters set found:\")\n",
    "print(grid.best_params_)\n",
    "\n",
    "print(\"Score with best parameters:\") #max of mean test score in cv_results_\n",
    "print(grid.best_score_)\n",
    "\n",
    "print(\"All scores on the grid:\") #cv_results_ detailed scores/results table\n",
    "print(pd.DataFrame(grid.cv_results_))"
   ]
  },
  {
   "cell_type": "markdown",
   "metadata": {},
   "source": [
    "## TO DO 2\n",
    "Pick a model for the Polynomial kernel with degree=2:"
   ]
  },
  {
   "cell_type": "code",
   "execution_count": null,
   "metadata": {},
   "outputs": [],
   "source": [
    "# parameters for poly with degree 2 kernel\n",
    "parameters = {'C': [0.05, 0.5, 5],'gamma':[0.05,0.5,5.]}\n",
    "\n",
    "#run SVM with poly of degree 2 kernel\n",
    "\n",
    "grid = GridSearchCV(SVC(kernel = 'poly', degree = 2), parameters, refit = True, verbose = 0, cv=4) # cv 4 means 4 fold, verbose is to print training\n",
    "grid.fit(X_train,y_train)\n",
    "\n",
    "print ('RESULTS FOR POLY DEGREE=2 KERNEL')\n",
    "\n",
    "print(\"Best parameters set found:\")\n",
    "print(grid.best_params_)\n",
    "\n",
    "print(\"Score with best parameters:\") #max of mean test score in cv_results_\n",
    "print(grid.best_score_)\n",
    "\n",
    "print(\"\\nAll scores on the grid:\") #cv_results_ detailed scores/results table\n",
    "print(pd.DataFrame(grid.cv_results_))"
   ]
  },
  {
   "cell_type": "markdown",
   "metadata": {},
   "source": [
    "## TO DO 3\n",
    "\n",
    "Now let's try a higher degree for the polynomial kernel (e.g., 4th degree)."
   ]
  },
  {
   "cell_type": "code",
   "execution_count": null,
   "metadata": {},
   "outputs": [],
   "source": [
    "# parameters for poly with higher degree kernel\n",
    "parameters = {'C': [0.05, 0.5, 5],'gamma':[0.05,0.5,5.]}\n",
    "\n",
    "#run SVM with poly of higher degree kernel\n",
    "degree = 4\n",
    "grid = GridSearchCV(SVC(kernel = 'poly', degree = 4), parameters, refit = True, verbose = 0, cv=4) # cv 4 means 4 fold, verbose is to print training\n",
    "grid.fit(X_train,y_train)\n",
    "\n",
    "\n",
    "print ('RESULTS FOR POLY DEGREE=', degree, ' KERNEL')\n",
    "\n",
    "print(\"Best parameters set found:\")\n",
    "print(grid.best_params_)\n",
    "\n",
    "print(\"Score with best parameters:\") #max of mean test score in cv_results_\n",
    "print(grid.best_score_)\n",
    "\n",
    "print(\"\\nAll scores on the grid:\") #cv_results_ detailed scores/results table\n",
    "print(pd.DataFrame(grid.cv_results_))"
   ]
  },
  {
   "cell_type": "markdown",
   "metadata": {},
   "source": [
    "## TO DO 4\n",
    "Pick a model for the Radial Basis Function kernel:"
   ]
  },
  {
   "cell_type": "code",
   "execution_count": null,
   "metadata": {},
   "outputs": [],
   "source": [
    "# parameters for rbf SVM\n",
    "parameters = {'C': [0.5, 5, 50, 500],'gamma':[0.005, 0.05, 0.5,5]}\n",
    "\n",
    "#run SVM with rbf kernel\n",
    "grid = GridSearchCV(SVC(kernel = 'rbf'), parameters, refit = True, verbose = 0, cv=4) # cv 4 means 4 fold, , verbose is to print training\n",
    "grid.fit(X_train,y_train)\n",
    "\n",
    "print ('RESULTS FOR rbf KERNEL')\n",
    "\n",
    "print(\"Best parameters set found:\")\n",
    "print(grid.best_params_)\n",
    "\n",
    "print(\"Score with best parameters:\") #max of mean test score in cv_results_\n",
    "print(grid.best_score_)\n",
    "\n",
    "print(\"\\nAll scores on the grid:\") #cv_results_ detailed scores/results table\n",
    "print(pd.DataFrame(grid.cv_results_))"
   ]
  },
  {
   "cell_type": "markdown",
   "metadata": {},
   "source": [
    "## QUESTION 1\n",
    "What do you observe when using linear, polynomial and RBF kernels on this dataset ?\n",
    "\n",
    "Firstly polynomial gave the worst results. 2-degree polynomial gave a better score than 4-degree polynomial.\n",
    "Even though linear and RBF are so close to each other, RBF gave a better score. So in this dataset, we can clearly say that the polynomial kernel is eliminated by linear and RBF.\n"
   ]
  },
  {
   "cell_type": "markdown",
   "metadata": {},
   "source": [
    "## TO DO 5\n",
    "Report here the best SVM kernel and parameters"
   ]
  },
  {
   "cell_type": "code",
   "execution_count": null,
   "metadata": {},
   "outputs": [],
   "source": [
    "#get training and test error for the best SVM model from CV\n",
    "best_SVM = SVC(C = 5.0, gamma = 0.005, kernel = 'rbf') #best is to do 4 (rbf)\n",
    "best_SVM.fit(X_train, y_train)\n",
    "\n",
    "# (error is 1 - svm.score)\n",
    "\n",
    "training_error = 1 - best_SVM.score(X_train, y_train)\n",
    "test_error = 1 - best_SVM.score(X_test, y_test)\n",
    "\n",
    "print (\"Best SVM training error: %f\" % training_error)\n",
    "print (\"Best SVM test error: %f\" % test_error)\n"
   ]
  },
  {
   "cell_type": "markdown",
   "metadata": {},
   "source": [
    "## TO DO 6\n",
    "\n",
    "Analyze how the classification boundaries depend on the C parameter"
   ]
  },
  {
   "cell_type": "code",
   "execution_count": null,
   "metadata": {},
   "outputs": [],
   "source": [
    "# Function to plot the data and classification boundaries. \n",
    "\n",
    "\n",
    "def plot_data(model, X_train, y_train, X_test, y_test, train_error, test_error):\n",
    "\n",
    "    def make_meshgrid(x, y, h=.02):\n",
    "        x_min, x_max = x.min() - abs(0.1*x.min()), x.max() + abs(0.1*x.min())\n",
    "        y_min, y_max = y.min() - abs(0.1*y.min()), y.max() + abs(0.1*y.min())\n",
    "        xx, yy = np.meshgrid(np.arange(x_min, x_max, h), np.arange(y_min, y_max, h))\n",
    "        return xx, yy\n",
    "\n",
    "    def plot_contours(ax, clf, xx, yy, **params):\n",
    "        Z = clf.predict(np.c_[xx.ravel(), yy.ravel()])\n",
    "        Z = Z.reshape(xx.shape)\n",
    "        out = ax.contourf(xx, yy, Z, **params)\n",
    "        return out\n",
    "    \n",
    "    \n",
    "    \n",
    "    # Plot\n",
    "    fig, ax = plt.subplots(1,2,figsize=(15,5))\n",
    "\n",
    "    # Training set\n",
    "    X0, X1 = X_train_pca[:, 0], X_train_pca[:, 1]\n",
    "    xx, yy = make_meshgrid(X0, X1)\n",
    "    plot_contours(ax[0], model, xx, yy, cmap=plt.cm.coolwarm, alpha=0.8)\n",
    "    ax[0].scatter(X0, X1, c=y_train, cmap=plt.cm.coolwarm, s=35, edgecolors='k')\n",
    "    ax[0].set_xticks(())\n",
    "    ax[0].set_yticks(())\n",
    "    ax[0].set_title('Training data, C={:.0e}, model accuracy={:.3f}'.format(model.__dict__['C'],1 - train_error))\n",
    "    \n",
    "    # Test set\n",
    "    X0, X1 = X_test_pca[:, 0], X_test_pca[:, 1]\n",
    "    xx, yy = make_meshgrid(X0, X1)\n",
    "    plot_contours(ax[1], model, xx, yy, cmap=plt.cm.coolwarm, alpha=0.8)\n",
    "    ax[1].scatter(X0, X1, c=y_test, cmap=plt.cm.coolwarm, s=35, edgecolors='k')\n",
    "    ax[1].set_xticks(())\n",
    "    ax[1].set_yticks(())\n",
    "    ax[1].set_title('Test data, C={:.0e}, model accuracy={:.3f}'.format(model.__dict__['C'],1 - test_error))\n",
    "    \n",
    "    plt.show()"
   ]
  },
  {
   "cell_type": "code",
   "execution_count": null,
   "metadata": {},
   "outputs": [],
   "source": [
    "# Too many test samples for visualization, plot only some of them\n",
    "m_test = 1000\n",
    "p = np.random.permutation(X_test.shape[0])[:m_test]\n",
    "X_test_red, y_test_red = X_test[p,:], y_test[p]\n",
    "\n",
    "# Perform classification only on subset of original classes for better visualization\n",
    "\n",
    "class_list = [0,1,2,3,4] #YOU CAN TRY TO CHANGE THE CLASSES\n",
    "\n",
    "train_idxs = [i for i in range(len(y_train)) if y_train[i] in class_list]   \n",
    "test_idxs = [i for i in range(len(y_test_red)) if y_test_red[i] in class_list] \n",
    "X_train_plot = X_train[train_idxs,:]\n",
    "X_test_plot = X_test_red[test_idxs,:] \n",
    "y_train_plot = y_train[train_idxs]\n",
    "y_test_plot = y_test_red[test_idxs] \n",
    "\n",
    "\n",
    "# The dimensionality is reduced to 2 for visualization using PCA\n",
    "# PCA: Reduce the dimensionality trying to preserve the information content. \n",
    "# PCA will be the topic of one of the very last lectures\n",
    "\n",
    "# Reduce X dimensionality to 2 for visualization\n",
    "pca = PCA(n_components=2, svd_solver='randomized', whiten=True).fit(X_train)\n",
    "X_train_pca, X_test_pca = pca.transform(X_train_plot), pca.transform(X_test_plot)\n",
    "\n",
    "\n",
    "C_list = [1e-1, 1, 1e3, 1e5]\n",
    "gamma = 0.5\n",
    "\n",
    "# Fit the prediction model on train_plot data futher reduced with PCA, \n",
    "# then classify with different prediction models and plot data\n",
    "# Use RBF kernel \n",
    "\n",
    "for C in C_list:\n",
    "    # ADD CODE TO TRAIN SVM (use the PCA reduced data)\n",
    "    my_svm = SVC(C = C, kernel ='rbf', gamma = gamma)\n",
    "    my_svm.fit(X_train_pca, y_train_plot)\n",
    "    \n",
    "    train_error = 1 - my_svm.score(X_train_pca, y_train_plot)\n",
    "    test_error = 1 - my_svm.score(X_test_pca, y_test_plot)\n",
    "    plot_data(my_svm, X_train_pca, y_train_plot, X_test_pca, y_test_plot, train_error, test_error)"
   ]
  },
  {
   "cell_type": "markdown",
   "metadata": {},
   "source": [
    "## QUESTION 2\n",
    "How do the shape of the boundaries changes when trying different values of C ?\n",
    "\n",
    "C list contains 4 different C values that are going from smaller to higher. On the shapes, the smallest C has the simplest boundaries while the highest C has the most complicated one. That is totally expected because C controls the cost of misclassification on the training data. So, while C is getting higher, it starts to overfit."
   ]
  },
  {
   "cell_type": "markdown",
   "metadata": {},
   "source": [
    "## TO DO 7\n",
    "\n",
    "Analyze how the gamma parameter (inversely proportional to standard deviation of Gaussian Kernel) impact the performances of the classifier"
   ]
  },
  {
   "cell_type": "code",
   "execution_count": null,
   "metadata": {},
   "outputs": [],
   "source": [
    "#Test with different values of gamma\n",
    "\n",
    "# Set gamma values\n",
    "gamma_values = np.logspace(-5,2,8)\n",
    "print(gamma_values)\n"
   ]
  },
  {
   "cell_type": "code",
   "execution_count": null,
   "metadata": {},
   "outputs": [],
   "source": [
    "# Try the SVM with the previously set values of gamma\n",
    "# use rbf kernel and C=1\n",
    "\n",
    "train_acc_list, test_acc_list = [], []\n",
    "\n",
    "    \n",
    "for gamma in gamma_values:\n",
    "    my_svm = SVC(C = 1, kernel ='rbf', gamma = gamma)\n",
    "    my_svm.fit(X_train, y_train)\n",
    "    \n",
    "    train_acc_list.append(my_svm.score(X_train, y_train))\n",
    "    test_acc_list.append(my_svm.score(X_test, y_test))\n",
    "    \n",
    "\n",
    "# Plot\n",
    "fig, ax = plt.subplots(1,2, figsize=(15,5))\n",
    "\n",
    "ax[0].plot(gamma_values, train_acc_list)\n",
    "ax[0].set_xscale('log')\n",
    "ax[0].set_xlabel('gamma')\n",
    "ax[0].set_ylabel('Train accuracy')\n",
    "ax[0].grid(True)\n",
    "\n",
    "ax[1].plot(gamma_values, test_acc_list)\n",
    "ax[1].set_xscale('log')\n",
    "ax[1].set_xlabel('gamma')\n",
    "ax[1].set_ylabel('Test accuracy')\n",
    "ax[1].grid(True)\n",
    "\n",
    "\n",
    "plt.show()"
   ]
  },
  {
   "cell_type": "markdown",
   "metadata": {},
   "source": [
    "## QUESTION 3\n",
    "How do the train and test error change when changing gamma ? Which is the best value of gamma ? \n",
    "Connect your answers to the discussion about the overfitting issue.\n",
    "\n",
    "Same as the C example, here gamma list is going from lower to higher. On the train plot, we can see that at 0.1 gamma, accuracy reaches 100% while on the test plot, accuracy starts decreasing after 0.01. So that means after gamma 0.01, overfit is starting. As we can see, the best gamma we can choose here is 0.01. \n",
    "\n",
    "Best gamma(best test accuracy) = 0.01\n",
    "Overfit starts when a gamma, that is higher than the best gamma, is used.\n"
   ]
  },
  {
   "cell_type": "markdown",
   "metadata": {},
   "source": [
    "## More data\n",
    "Now let's do the same but using more data points for training.\n",
    "\n",
    "\n",
    "Choose a new number of data points."
   ]
  },
  {
   "cell_type": "code",
   "execution_count": null,
   "metadata": {},
   "outputs": [],
   "source": [
    "X = X[permutation]\n",
    "y = y[permutation]\n",
    "\n",
    "m_training = 1500 # TODO number of data points, adjust depending on the capabilities of your PC\n",
    "\n",
    "X_train, X_test = X[:m_training], X[m_training:]\n",
    "y_train, y_test = y[:m_training], y[m_training:]\n",
    "\n",
    "labels, freqs = np.unique(y_train, return_counts=True)\n",
    "print(\"Labels in training dataset: \", labels)\n",
    "print(\"Frequencies in training dataset: \", freqs)"
   ]
  },
  {
   "cell_type": "markdown",
   "metadata": {},
   "source": [
    "## TO DO 8\n",
    "\n",
    "Let's try to use SVM with parameters obtained from the best model for $m_{training} =  1500$. Since it may take a long time to run, you can decide to just let it run for some time and stop it if it does not complete. If you decide to do this, report it in the cell below."
   ]
  },
  {
   "cell_type": "code",
   "execution_count": null,
   "metadata": {
    "scrolled": true
   },
   "outputs": [],
   "source": [
    "#get training and test error for the best SVM model from CV\n",
    "\n",
    "best_SVM = SVC(C = 5.0, gamma = 0.005, kernel = 'rbf')\n",
    "best_SVM.fit(X_train, y_train)\n",
    "\n",
    "training_error = 1 - best_SVM.score(X_train, y_train)\n",
    "test_error = 1 - best_SVM.score(X_test, y_test)\n",
    "\n",
    "print (\"Best SVM training error: %f\" % training_error)\n",
    "print (\"Best SVM test error: %f\" % test_error)"
   ]
  },
  {
   "cell_type": "markdown",
   "metadata": {},
   "source": [
    "Just for comparison, let's also use logistic regression \n",
    "\n",
    "## TO DO 9 Try first without regularization (use a very large large C)¶"
   ]
  },
  {
   "cell_type": "code",
   "execution_count": null,
   "metadata": {},
   "outputs": [],
   "source": [
    "from sklearn import linear_model\n",
    "\n",
    "logreg = linear_model.LogisticRegression(C = 1e5)\n",
    "logreg.fit(X_train, y_train)\n",
    "\n",
    "training_error = 1 - logreg.score(X_train, y_train)\n",
    "test_error = 1 - logreg.score(X_test, y_test)\n",
    "\n",
    "print (\"Best logistic regression training error: %f\" % training_error)\n",
    "print (\"Best logistic regression test error: %f\" % test_error)"
   ]
  },
  {
   "cell_type": "markdown",
   "metadata": {},
   "source": [
    "## TO DO 10 Try  with regularization (use C=1)¶"
   ]
  },
  {
   "cell_type": "code",
   "execution_count": null,
   "metadata": {},
   "outputs": [],
   "source": [
    "logreg = linear_model.LogisticRegression(C = 1.0)\n",
    "logreg.fit(X_train, y_train)\n",
    "\n",
    "training_error = 1 - logreg.score(X_train, y_train)\n",
    "test_error = 1 - logreg.score(X_test, y_test)\n",
    "\n",
    "print (\"Best regularized logistic regression training error: %f\" % training_error)\n",
    "print (\"Best regularized logistic regression test error: %f\" % test_error)"
   ]
  },
  {
   "cell_type": "markdown",
   "metadata": {},
   "source": [
    "## QUESTION 4\n",
    "Compare and discuss:\n",
    "- the results from SVM with m=600 and with m=1500 training data points. If you stopped the SVM, include such aspect in your comparison.\n",
    "\n",
    "Best SVM with m=600 gives 0.045 training and 0.219 test error while best SVM with m=1500 gives 0.054 training error and 0.170291 test error. So there is an almost 5% accuracy difference between the 2 options. That means there is a huge difference between accuracies while training with 600 and 1500 data points. An increase in training error has no harm to us, so using higher training data points is the key here to increase our test accuracy. There would be an even lower test error If we would use more than 1500 data points. When I tested it with 5000 data points, I got a 0.14 test error as I expected.\n",
    "\n",
    "- the results of SVM and of Logistic Regression\n",
    "\n",
    "When I tested both with m=1500, the results are; for the best SVM gives 0.054 training error, 0.170291 test error and for the logistic regression (C=1) 0.010667 training error, 0.185282 test error. As we can see, from test errors, our best SVM gives better test accuracy. Also, another important point is, logistic regression gives 0.01 training error while test error is 0.185. The difference between training and test error for logistic regression is a lot bigger than the difference between training and test error of our best SVM. We know that we need to choose a different option between SVM kernels/logistic regression depending on the number of features and number of training examples. In this example(with this dataset and data points), It can be seen that our SVM is a better choice.\n"
   ]
  },
  {
   "cell_type": "markdown",
   "metadata": {},
   "source": [
    "## TO DO 11\n",
    "Plot an item of clothing that is missclassified by logistic regression and correctly classified by SVM."
   ]
  },
  {
   "cell_type": "code",
   "execution_count": null,
   "metadata": {},
   "outputs": [],
   "source": [
    "X_small = X[:3000] # small test list\n",
    "y_small = y[:3000]\n",
    "permutation = np.random.permutation(X_small.shape[0]) # i wanted to see different results\n",
    "X_small = X_small[permutation]\n",
    "y_small = y_small[permutation]\n",
    "\n",
    "LR_prediction = logreg.predict(X_small)\n",
    "SVM_prediction = best_SVM.predict(X_small)\n",
    "\n",
    "for i in range(len(y_small)):\n",
    "    if(LR_prediction[i] != y_small[i]):\n",
    "        if(SVM_prediction[i] == y_small[i]):\n",
    "            print(\"LR Prediction = \" + str(LR_prediction[i]) + \"   SVM Prediction = \" + str(SVM_prediction[i]) + \"   Label = \" + str(y_small[i]))\n",
    "            plot_input(X_small,y_small,i)\n",
    "            break; #stop after 1 item"
   ]
  },
  {
   "cell_type": "markdown",
   "metadata": {},
   "source": [
    "## TO DO 12\n",
    "Plot the confusion matrix for the SVM classifier and for logistic regression.\n",
    "The confusion matrix has one column for each predicted label and one row for each true label. \n",
    "It shows for each class in the corresponding row how many samples belonging to that class gets each possible output label.\n",
    "Notice that the diagonal contains the correctly classified samples, while the other cells correspond to errors.\n",
    "You can obtain it with the sklearn.metrics.confusion_matrix function (see the documentation).\n",
    "Try also to normalize the confusion matrix by the number of samples in each class in order to measure the accuracy on each single class.\n"
   ]
  },
  {
   "cell_type": "code",
   "execution_count": null,
   "metadata": {},
   "outputs": [],
   "source": [
    "from sklearn.metrics import confusion_matrix\n",
    "\n",
    "np.set_printoptions(precision=2, suppress=True) # for better aligned printing of confusion matrix use floatmode='fixed'\n",
    "\n",
    "u, counts = np.unique(y_test, return_counts=True)\n",
    "print(\"Labels and frequencies in test set: \", counts)\n",
    "\n",
    "confusion_SVM = confusion_matrix(y_test, best_SVM.predict(X_test), labels)\n",
    "print(\"\\n Confusion matrix SVM  \\n \\n\", confusion_SVM)\n",
    "\n",
    "confusion_LR =  confusion_matrix(y_test, logreg.predict(X_test), labels)\n",
    "print(\"\\n Confusion matrix LR  \\n \\n\", confusion_LR)"
   ]
  },
  {
   "cell_type": "code",
   "execution_count": null,
   "metadata": {},
   "outputs": [],
   "source": [
    "# ADD CODE TO NORMALIZE CONFUSION MATRIX AND PRINT THE NORMALIZED MATRIX\n",
    "\n",
    "print(\"\\n Confusion matrix SVM (normalized)   \\n \\n\", confusion_SVM /counts[:,None] )\n",
    "print(\"\\n Confusion matrix LR (normalized)   \\n \\n\", confusion_LR /counts[:,None] )"
   ]
  },
  {
   "cell_type": "markdown",
   "metadata": {},
   "source": [
    "## QUESTION 5\n",
    "Have a look at the confusion matrices and comment on the obtained accuracies. Why some classes have lower accuracies and others an higher one ? Make some guesses on the possible causes.\n",
    "\n",
    "As we can see the labels with the highest true positive(TP)/accuracy (>=90) are 1-Trouser, 5-Sandal, 8-Bag, 9-Ankle Boot. After I compared these labels and check their images on the dataset, I saw that images that belong to these 4 classes have very unique characteristics. For example, a bag, or a trouser has very unique shapes among other images that have different labels. So, they can be predicted and learned easier than others. \n",
    "\n",
    "When we check lower accuracy ones, we see that label 6-Shirt has 54% TP/accuracy (SVM). When we check the confusion matrix, we see that 8% of shirts are labeled as 0-T-shirt and 11% of them are labeled as 2-Pullover. When I checked the images, even I sometimes confused while labeling the image as Shirt because Shirts do not have huge unique characteristics that separate them from all other labels. Another example is, label 2-Pullover is labeled with 66% accuracy(LR) and the 12% of them are labeled as 6-Shirt. \n",
    "\n",
    "To sum up, labels that have similar characteristics have lower accuracy while labels that have unique characteristics like the bag has high accuracy."
   ]
  },
  {
   "cell_type": "code",
   "execution_count": null,
   "metadata": {},
   "outputs": [],
   "source": []
  }
 ],
 "metadata": {
  "kernelspec": {
   "display_name": "Python 3",
   "language": "python",
   "name": "python3"
  },
  "language_info": {
   "codemirror_mode": {
    "name": "ipython",
    "version": 3
   },
   "file_extension": ".py",
   "mimetype": "text/x-python",
   "name": "python",
   "nbconvert_exporter": "python",
   "pygments_lexer": "ipython3",
   "version": "3.7.6"
  }
 },
 "nbformat": 4,
 "nbformat_minor": 2
}

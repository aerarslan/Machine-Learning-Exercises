{
 "cells": [
  {
   "cell_type": "markdown",
   "metadata": {},
   "source": [
    " # Machine Learning LAB 1 (course 2020/21, P. Zanuttigh, M. Toldo) \n",
    "\n",
    "The notebook contains some simple tasks to be performed about classification and regression. Complete all the required code sections and answer to all the questions."
   ]
  },
  {
   "cell_type": "markdown",
   "metadata": {},
   "source": [
    "## 1) Classification of NBA players role\n",
    "\n",
    "## IMPORTANT: make sure to rerun all the code from the beginning to obtain the results for the final version of your notebook, since this is the way we will do it before evaluating your notebook!"
   ]
  },
  {
   "cell_type": "markdown",
   "metadata": {},
   "source": [
    "### Place your name and ID number. Also recall to save the file as Surname_Name_LAB1.ipynb\n",
    "\n",
    "Student name: Aras Umut ERARSLAN\n",
    "ID Number: 2005627"
   ]
  },
  {
   "cell_type": "markdown",
   "metadata": {},
   "source": [
    "### Dataset description\n",
    "\n",
    "We will be working with a dataset of NBA basketball players data (you can get from https://www.kaggle.com/jacobbaruch/nba-player-of-the-week the full dataset).\n",
    "\n",
    "The provided data is a subset of the Kaggle dataset containing the players that have the role of Center and of Point Guard. For each player the dataset contains 3 features, the height, the weight and the age.\n",
    "\n",
    "From Wikipedia (if you are not a basketball fan!!):\n",
    "\n",
    "The Center (C), also known as the five, or the big man, is one of the five positions in a regular basketball game. The center is normally the tallest player on the team, and often has a great deal of strength and body mass as well. In the NBA, the center is usually 6' 10\" (2.08 m) or taller and usually weighs 240 lbs (109 kg) or more. \n",
    "\n",
    "Point Guards (PG, a.k.a. as \"play maker\") are expected to run the team's offense by controlling the ball and making sure that it gets to the right players at the right time. In the NBA, point guards are usually about 6' 3\" (1.93 m) or shorter, and average about 6' 2\" (1.88 m). Having above-average size (height, muscle) is considered advantageous, although size is secondary to situational awareness, speed, quickness, and ball handling skills. Shorter players tend to be better dribblers since they are closer to the floor, and thus have better control of the ball while dribbling. \n",
    "\n",
    "\n",
    "As it is clear from the description, the height and weight of the player are good hints to predict their role and in this lab we will exploit this features to estimate the role.\n",
    "\n",
    "\n",
    "### Three features are considered for this dataset:\n",
    "\n",
    "\n",
    "1) Height in cm\n",
    "\n",
    "2) Weight in kg\n",
    "\n",
    "3) Age in years"
   ]
  },
  {
   "cell_type": "markdown",
   "metadata": {},
   "source": [
    "We first import all the packages that are needed."
   ]
  },
  {
   "cell_type": "code",
   "execution_count": 1,
   "metadata": {},
   "outputs": [],
   "source": [
    "%matplotlib inline\n",
    "import matplotlib.pyplot as plt\n",
    "import csv\n",
    "\n",
    "import numpy as np\n",
    "import scipy as sp\n",
    "import sklearn as sl\n",
    "from scipy import stats\n",
    "from sklearn import datasets\n",
    "from sklearn import linear_model"
   ]
  },
  {
   "cell_type": "markdown",
   "metadata": {},
   "source": [
    "# Perceptron\n",
    "Firstly we will implement the perceptron algorithm and use it to learn a halfspace."
   ]
  },
  {
   "cell_type": "markdown",
   "metadata": {},
   "source": [
    "**TO DO** Set the random seed (you can use your ID (matricola) or any other number!)."
   ]
  },
  {
   "cell_type": "code",
   "execution_count": 2,
   "metadata": {},
   "outputs": [],
   "source": [
    "IDnumber = 2005627 #try also to change the seed to see the impact of random initialization on the results\n",
    "np.random.seed(IDnumber)"
   ]
  },
  {
   "cell_type": "markdown",
   "metadata": {},
   "source": [
    "Load the dataset and then split in training set and test set (the training set is typically larger, you can use a 70% tranining 30% test split) after applying a random permutation to the datset."
   ]
  },
  {
   "cell_type": "markdown",
   "metadata": {},
   "source": [
    "A) Load dataset and perform permutation"
   ]
  },
  {
   "cell_type": "markdown",
   "metadata": {},
   "source": [
    "We are going to classify class \"1\" (Center) vs class \"-1\" (Point Guard)"
   ]
  },
  {
   "cell_type": "markdown",
   "metadata": {},
   "source": [
    "B) **TO DO** Divide the data into training set and test set (70% of the data in the first set, 30% in the second one)"
   ]
  },
  {
   "cell_type": "code",
   "execution_count": 3,
   "metadata": {},
   "outputs": [
    {
     "name": "stdout",
     "output_type": "stream",
     "text": [
      "['Position', 'Height cm', 'kg', 'Age']\n",
      "260\n",
      "[ 1  1  1 -1  1 -1  1 -1 -1  1  1 -1  1  1  1 -1 -1  1  1 -1  1  1  1 -1\n",
      "  1 -1 -1  1 -1 -1 -1 -1  1  1 -1 -1  1 -1 -1  1 -1  1 -1  1  1  1 -1 -1\n",
      " -1 -1  1  1  1  1 -1  1  1 -1 -1 -1  1 -1 -1 -1  1 -1 -1 -1  1  1  1 -1\n",
      " -1 -1 -1  1  1 -1 -1 -1 -1 -1 -1  1  1 -1 -1  1  1  1  1  1 -1  1 -1  1\n",
      "  1  1  1 -1  1  1  1  1 -1 -1  1  1  1 -1  1  1  1 -1 -1 -1 -1  1  1  1\n",
      "  1 -1  1 -1  1 -1  1 -1 -1 -1  1 -1  1  1  1  1  1  1 -1  1 -1 -1  1 -1\n",
      "  1 -1 -1 -1 -1 -1  1 -1  1 -1 -1 -1 -1  1  1  1  1  1 -1 -1 -1  1  1 -1\n",
      "  1  1 -1 -1 -1 -1 -1  1  1 -1  1  1  1 -1]\n",
      "78\n",
      "Shape of training set: (182, 3)\n",
      "Shape of test set: (78, 3)\n"
     ]
    }
   ],
   "source": [
    "#load the dataset\n",
    "filename = 'data/NBA.csv'\n",
    "NBA = csv.reader(open(filename, newline=''), delimiter=',')\n",
    "\n",
    "header = next(NBA) #skip first line\n",
    "print(header)\n",
    "\n",
    "dataset = list(NBA)\n",
    "for i in range(len(dataset)):\n",
    "    dataset[i] = [int(x) for x in dataset[i]]\n",
    "    \n",
    "dataset = np.asarray(dataset)\n",
    "\n",
    "X = dataset[:,1:4] #columns 1,2,3 contain the features\n",
    "Y = dataset[:,0]  # column 0: labels\n",
    "\n",
    "Y = Y*2-1  # set labels to -1, 1 as required by perceptron implementation\n",
    "\n",
    "counts = [0,0] # number of -1 and 1 in the Y_training\n",
    "\n",
    "while(counts[0] < 10 or counts[1] < 10): #check training has at least 10 elements from each class\n",
    "\n",
    "    m = dataset.shape[0]\n",
    "    print(m)\n",
    "    permutation = np.random.permutation(m) # random permutation\n",
    "    X = X[permutation]\n",
    "    Y = Y[permutation]\n",
    "    \n",
    "    #Divide in training and test: make sure that your training set\n",
    "    #contains at least 10 elements from class 1 and at least 10 elements\n",
    "    #from class -1! If it does not, modify the code so to apply more random\n",
    "    #permutations (or the same permutation multiple times) until this happens.\n",
    "    #IMPORTANT: do not change the random seed.\n",
    "    \n",
    "    #m_training needs to be the number of samples in the training set\n",
    "    m_training = int(len(X) * 0.7)\n",
    "    \n",
    "    #m_test needs to be the number of samples in the test set\n",
    "    m_test = int(len(X) * 0.3)\n",
    "    \n",
    "    #X_training = instances for training set\n",
    "    X_training = X[0:m_training,:]\n",
    "    #Y_training = labels for the training set\n",
    "    Y_training = Y[0:m_training]\n",
    "    \n",
    "    #X_test = instances for test set\n",
    "    X_test = X[m_training:m_training + m_test,:]\n",
    "    #Y_test = labels for the test set\n",
    "    Y_test = Y[m_training:m_training + m_test]\n",
    "    \n",
    "    \n",
    "    print(Y_training) #to make sure that Y_training contains both 1 and -1\n",
    "    print(m_test)\n",
    "    \n",
    "    print(\"Shape of training set: \" + str(X_training.shape))\n",
    "    print(\"Shape of test set: \" + str(X_test.shape))\n",
    "    \n",
    "    \n",
    "    unique, counts = np.unique(Y_training, return_counts=True) #check if training array have more than 10 samples of -1 and 1\n",
    "    dict(zip(unique, counts))"
   ]
  },
  {
   "cell_type": "markdown",
   "metadata": {},
   "source": [
    "We add a 1 in front of each sample so that we can use a vector in homogeneous coordinates to describe all the coefficients of the model. This can be done with the function $hstack$ in $numpy$."
   ]
  },
  {
   "cell_type": "code",
   "execution_count": 4,
   "metadata": {},
   "outputs": [],
   "source": [
    "#add a 1 to each sample (homogeneous coordinates)\n",
    "#X_training = np.hstack((np.ones((m_training,1)),X_training))\n",
    "#X_test = np.hstack((np.ones((m_test,1)),X_test))"
   ]
  },
  {
   "cell_type": "markdown",
   "metadata": {},
   "source": [
    "**TO DO** Now complete the function *perceptron*. Since the perceptron does not terminate if the data is not linearly separable, your implementation should return the desired output (see below) if it reached the termination condition seen in class or if a maximum number of iterations have already been run, where one iteration corresponds to one update of the perceptron weights. In case the termination is reached because the maximum number of iterations have been completed, the implementation should return **the best model** seen up to now.\n",
    "\n",
    "The input parameters to pass are:\n",
    "- $X$: the matrix of input features, one row for each sample\n",
    "- $Y$: the vector of labels for the input features matrix X\n",
    "- $max\\_num\\_iterations$: the maximum number of iterations for running the perceptron\n",
    "\n",
    "The output values are:\n",
    "- $best\\_w$: the vector with the coefficients of the best model\n",
    "- $best\\_error$: the *fraction* of misclassified samples for the best model"
   ]
  },
  {
   "cell_type": "code",
   "execution_count": 5,
   "metadata": {},
   "outputs": [],
   "source": [
    "curr_w = [0.0, 0.0, 0.0]\n",
    "curr_w = np.array(curr_w)\n",
    "best_w = [0.0, 0.0, 0.0]\n",
    "\n",
    "num_samples = len(X_training)\n",
    "threshold = 50\n",
    "learning_rate = 0.0001\n",
    "\n",
    "max_iter = 100\n",
    "\n",
    "min_error = 100\n",
    "\n",
    "error_list = []\n",
    "\n",
    "for j in range(0, max_iter):\n",
    "    # print(\"Iteration\", j)\n",
    "    error_count = 0\n",
    "    for i in range(0, num_samples):\n",
    "        \n",
    "        actual = Y_training[i]\n",
    "        instance = X_training[i]\n",
    "        x0 = instance[0]\n",
    "        x1 = instance[1]\n",
    "        x2 = instance[2]\n",
    "        \n",
    "        sum_unit = x0 * curr_w[0] + x1 * curr_w[1] + x2 * curr_w[2]\n",
    "        if sum_unit >= threshold:\n",
    "            guess = 1\n",
    "        else:\n",
    "            guess = -1\n",
    "                  \n",
    "        delta = actual - guess\n",
    "        if delta != 0:\n",
    "            error_count += 1\n",
    "        # print(\"prediction = \",guess,\" real \", Y_training[i], \" error \", delta)\n",
    "        \n",
    "        curr_w[0] = curr_w[0] + delta * learning_rate * x0\n",
    "        curr_w[1] = curr_w[1] + delta * learning_rate * x1\n",
    "        curr_w[2] = curr_w[2] + delta * learning_rate * x2\n",
    "        \n",
    "    if error_count/num_samples <= min_error:\n",
    "        min_error = error_count/num_samples\n",
    "        best_w = curr_w\n",
    "        b0 = best_w[0]\n",
    "        b1 = best_w[1]\n",
    "        b2 = best_w[2]\n",
    "        \n",
    "    \n",
    "    error_list.append(error_count/num_samples)\n",
    "    \n",
    "    # print(\"------------------------------------\")"
   ]
  },
  {
   "cell_type": "markdown",
   "metadata": {},
   "source": [
    "Now we use the implementation above of the perceptron to learn a model from the training data using 100 iterations and print the error of the best model we have found."
   ]
  },
  {
   "cell_type": "code",
   "execution_count": 6,
   "metadata": {},
   "outputs": [
    {
     "name": "stdout",
     "output_type": "stream",
     "text": [
      "Training Error of perpceptron (100 iterations): 0.13186813186813187\n"
     ]
    }
   ],
   "source": [
    "#now run the perceptron for 100 iterations\n",
    "w_found = [b0, b1, b2]\n",
    "\n",
    "print(\"Training Error of perpceptron (100 iterations): \" + str(min_error))\n",
    "\n",
    "#training error ün testten düşük olması lazım teoride. eğer daha yüksekse seed değişip dene."
   ]
  },
  {
   "cell_type": "markdown",
   "metadata": {},
   "source": [
    "**TO DO** use the best model $w\\_found$ to predict the labels for the test dataset and print the fraction of misclassified samples in the test set (the test error that is an estimate of the true loss)."
   ]
  },
  {
   "cell_type": "code",
   "execution_count": 7,
   "metadata": {},
   "outputs": [
    {
     "name": "stdout",
     "output_type": "stream",
     "text": [
      "Test Error of perpceptron (100 iterations): 0.1282051282051282\n"
     ]
    }
   ],
   "source": [
    "#now use the w_found to make predictions on test dataset\n",
    "\n",
    "error_count = 0\n",
    "for i in range (0, len(X_test)):\n",
    "    actual_test = Y_test[i]\n",
    "    instance_test = X_test[i]\n",
    "    x0_test = instance_test[0]\n",
    "    x1_test = instance_test[1]\n",
    "    x2_test = instance_test[2]\n",
    "    \n",
    "    sum_unit_test = x0_test * w_found[0] + x1_test * w_found[1] + x2_test * w_found[2] \n",
    "    \n",
    "    if sum_unit_test >= threshold:\n",
    "        predict = 1\n",
    "    else:\n",
    "        predict = -1\n",
    "    \n",
    "    delta = actual_test - predict\n",
    "    \n",
    "    if delta != 0:\n",
    "        error_count += 1\n",
    "\n",
    "true_loss_estimate = error_count/len(X_test)  # error rate on the test set\n",
    "#NOTE: you can avoid using num_errors if you prefer, as long as true_loss_estimate is correct\n",
    "print(\"Test Error of perpceptron (100 iterations): \" + str(true_loss_estimate))"
   ]
  },
  {
   "cell_type": "markdown",
   "metadata": {},
   "source": [
    "**TO DO** **[Answer the following]** What about the difference betweeen the training error and the test error  in terms of fraction of misclassified samples)? Explain what you observe. [After 100 iterations, w_found is found as the best weight in that 100 iteration. The minimum error in the 100 iteration is found as %0.13186881, while the test error that is found by using w_found is 0.1282051. So the test error is smaller than training error after 100 iterations but they are still very close. We need an higher iteration count to be sure if it is possible to find a better weights. It seems like our training and test data is balanced. If with the higher iteration, training error keeps decreasing while test error keeps incerasing that means there is overfitting.]\n",
    "\n",
    "**ANSWER QUESTION 1**"
   ]
  },
  {
   "cell_type": "markdown",
   "metadata": {},
   "source": [
    "**TO DO** Copy the code from the last 2 cells above in the cell below and repeat the training with 3000 iterations. Then print the error in the training set and the estimate of the true loss obtained from the test set."
   ]
  },
  {
   "cell_type": "code",
   "execution_count": 8,
   "metadata": {
    "scrolled": true
   },
   "outputs": [
    {
     "name": "stdout",
     "output_type": "stream",
     "text": [
      "Training Error of perpceptron (3000 iterations): 0.13186813186813187\n",
      "Test Error of perpceptron (3000 iterations): 0.16666666666666666\n"
     ]
    }
   ],
   "source": [
    "#now run the perceptron for 3000 iterations here!\n",
    "\n",
    "max_iter = 3000\n",
    "\n",
    "for j in range(0, max_iter):\n",
    "    # print(\"Iteration\", j)\n",
    "    error_count = 0\n",
    "    for i in range(0, num_samples):\n",
    "        \n",
    "        actual = Y_training[i]\n",
    "        instance = X_training[i]\n",
    "        x0 = instance[0]\n",
    "        x1 = instance[1]\n",
    "        x2 = instance[2]\n",
    "        \n",
    "        sum_unit = x0 * curr_w[0] + x1 * curr_w[1] + x2 * curr_w[2]\n",
    "        if sum_unit >= threshold:\n",
    "            guess = 1\n",
    "        else:\n",
    "            guess = -1\n",
    "                  \n",
    "        delta = actual - guess\n",
    "        if delta != 0:\n",
    "            error_count += 1\n",
    "        # print(\"prediction = \",guess,\" real \", Y_training[i], \" error \", delta)\n",
    "        \n",
    "        curr_w[0] = curr_w[0] + delta * learning_rate * x0\n",
    "        curr_w[1] = curr_w[1] + delta * learning_rate * x1\n",
    "        curr_w[2] = curr_w[2] + delta * learning_rate * x2\n",
    "        \n",
    "    if error_count/num_samples <= min_error:\n",
    "        min_error = error_count/num_samples\n",
    "        best_w = curr_w\n",
    "        b0 = best_w[0]\n",
    "        b1 = best_w[1]\n",
    "        b2 = best_w[2]\n",
    "        \n",
    "    \n",
    "    error_list.append(error_count/num_samples)\n",
    "    \n",
    "    # print(\"------------------------------------\")\n",
    "\n",
    "print(\"Training Error of perpceptron (3000 iterations): \" + str(min_error))\n",
    "\n",
    "error_count = 0\n",
    "for i in range (0, len(X_test)):\n",
    "    actual_test = Y_test[i]\n",
    "    instance_test = X_test[i]\n",
    "    x0_test = instance_test[0]\n",
    "    x1_test = instance_test[1]\n",
    "    x2_test = instance_test[2]\n",
    "    \n",
    "    sum_unit_test = x0_test * b0 + x1_test * b1 + x2_test * b2 \n",
    "    \n",
    "    if sum_unit_test >= threshold:\n",
    "        predict = 1\n",
    "    else:\n",
    "        predict = -1\n",
    "    \n",
    "    delta = actual_test - predict\n",
    "    \n",
    "    if delta != 0:\n",
    "        error_count += 1\n",
    "\n",
    "print(\"Test Error of perpceptron (3000 iterations): \" + str(error_count/len(X_test)))"
   ]
  },
  {
   "cell_type": "markdown",
   "metadata": {},
   "source": [
    "**TO DO** [Answer the following] What about the difference betweeen the training error and the test error  in terms of fraction of misclassified samples) when running for a larger number of iterations ? Explain what you observe and compare with the previous case. [After 3000 iterations, training error is not changed while test error is increased. While the minimum training error is the same, weights that have the same minimum training error are updated and it starts to memorize data after a certain amount of iteration. That means after a certain amount of iteration, our error increases. So we need to lower our iteration count to find better weights that give the lowest test error.]\n",
    "\n",
    "**ANSWER QUESTION 2**"
   ]
  },
  {
   "cell_type": "markdown",
   "metadata": {},
   "source": [
    "# Logistic Regression\n",
    "Now we use logistic regression, exploiting the implementation in Scikit-learn, to predict labels. We will also plot the decision region of logistic regression.\n",
    "\n",
    "We first load the dataset again."
   ]
  },
  {
   "cell_type": "markdown",
   "metadata": {},
   "source": [
    "**TO DO** As for the previous part, divide the data into training and test (70%-30%) and add a 1 as first component to each sample."
   ]
  },
  {
   "cell_type": "code",
   "execution_count": 9,
   "metadata": {},
   "outputs": [
    {
     "name": "stdout",
     "output_type": "stream",
     "text": [
      "['Position', 'Height cm', 'kg', 'Age']\n",
      "260\n",
      "[-1 -1  1  1  1 -1  1  1  1  1 -1  1  1  1 -1  1  1  1  1 -1 -1 -1  1  1\n",
      "  1 -1  1  1 -1 -1  1  1  1 -1  1 -1 -1  1 -1  1  1 -1  1 -1  1  1 -1  1\n",
      "  1 -1  1 -1  1  1  1 -1 -1  1  1  1 -1 -1 -1  1  1  1 -1 -1 -1 -1 -1  1\n",
      " -1 -1 -1 -1 -1  1 -1  1  1 -1 -1  1 -1 -1  1  1 -1  1  1 -1  1 -1  1  1\n",
      " -1  1 -1 -1  1 -1  1 -1  1  1 -1  1  1 -1 -1 -1 -1 -1 -1 -1 -1 -1  1  1\n",
      "  1  1 -1 -1  1 -1 -1  1 -1  1  1  1 -1  1 -1 -1  1  1  1  1  1  1  1 -1\n",
      "  1  1  1 -1  1 -1  1 -1  1  1  1 -1 -1 -1  1  1 -1  1 -1  1  1 -1 -1  1\n",
      "  1 -1 -1  1  1  1 -1  1  1  1  1 -1 -1  1]\n",
      "78\n",
      "Shape of training set: (182, 3)\n",
      "Shape of test set: (78, 3)\n"
     ]
    }
   ],
   "source": [
    "#load the dataset\n",
    "filename = 'data/NBA.csv'\n",
    "NBA = csv.reader(open(filename, newline=''), delimiter=',')\n",
    "\n",
    "header = next(NBA) #skip first line\n",
    "print(header)\n",
    "\n",
    "dataset = list(NBA)\n",
    "for i in range(len(dataset)):\n",
    "    dataset[i] = [int(x) for x in dataset[i]]\n",
    "    \n",
    "dataset = np.asarray(dataset)\n",
    "\n",
    "X = dataset[:,1:4] #columns 1,2,3 contain the features\n",
    "Y = dataset[:,0]  # column 0: labels\n",
    "\n",
    "Y = Y*2-1  # set labels to -1, 1 as required by perceptron implementation\n",
    "\n",
    "counts = [0,0] # number of -1 and 1 in the Y_training\n",
    "\n",
    "while(counts[0] < 10 or counts[1] < 10): #check training has at least 10 elements from each class\n",
    "\n",
    "    m = dataset.shape[0]\n",
    "    print(m)\n",
    "    permutation = np.random.permutation(m) # random permutation\n",
    "    X = X[permutation]\n",
    "    Y = Y[permutation]\n",
    "    \n",
    "    #Divide in training and test: make sure that your training set\n",
    "    #contains at least 10 elements from class 1 and at least 10 elements\n",
    "    #from class -1! If it does not, modify the code so to apply more random\n",
    "    #permutations (or the same permutation multiple times) until this happens.\n",
    "    #IMPORTANT: do not change the random seed.\n",
    "    \n",
    "    #m_training needs to be the number of samples in the training set\n",
    "    m_training = int(len(X) * 0.7)\n",
    "    \n",
    "    #m_test needs to be the number of samples in the test set\n",
    "    m_test = int(len(X) * 0.3)\n",
    "    \n",
    "    #X_training = instances for training set\n",
    "    X_training = X[0:m_training,:]\n",
    "    #Y_training = labels for the training set\n",
    "    Y_training = Y[0:m_training]\n",
    "    \n",
    "    #X_test = instances for test set\n",
    "    X_test = X[m_training:m_training + m_test,:]\n",
    "    #Y_test = labels for the test set\n",
    "    Y_test = Y[m_training:m_training + m_test]\n",
    "    \n",
    "    \n",
    "    print(Y_training) #to make sure that Y_training contains both 1 and -1\n",
    "    print(m_test)\n",
    "    \n",
    "    print(\"Shape of training set: \" + str(X_training.shape))\n",
    "    print(\"Shape of test set: \" + str(X_test.shape))\n",
    "    \n",
    "    \n",
    "    unique, counts = np.unique(Y_training, return_counts=True) #check if training array have more than 10 samples of -1 and 1\n",
    "    dict(zip(unique, counts))"
   ]
  },
  {
   "cell_type": "markdown",
   "metadata": {},
   "source": [
    "To define a logistic regression model in Scikit-learn use the instruction\n",
    "\n",
    "$linear\\_model.LogisticRegression(C=1e5)$\n",
    "\n",
    "($C$ is a parameter related to *regularization*, a technique that\n",
    "we will see later in the course. Setting it to a high value is almost\n",
    "as ignoring regularization, so the instruction above corresponds to the\n",
    "logistic regression you have seen in class.)\n",
    "\n",
    "To learn the model you need to use the $fit(...)$ instruction and to predict you need to use the $predict(...)$ function. See the Scikit-learn documentation for how to use it.\n",
    "\n",
    "**TO DO** Define the logistic regression model, then learn the model using the training set and predict on the test set. Then print the fraction of samples misclassified in the training set and in the test set."
   ]
  },
  {
   "cell_type": "code",
   "execution_count": 10,
   "metadata": {},
   "outputs": [
    {
     "name": "stdout",
     "output_type": "stream",
     "text": [
      "Error rate on training set: 0.06043956043956044\n",
      "Error rate on test set: 0.08974358974358974\n"
     ]
    }
   ],
   "source": [
    "#part on logistic regression for 2 classes\n",
    "logreg = linear_model.LogisticRegression(C=1e5) #a large C disables regularization\n",
    "\n",
    "#learn from training set\n",
    "\n",
    "logreg.fit(X_training, Y_training)\n",
    "\n",
    "#predict on training set\n",
    "\n",
    "predict_training = logreg.predict(X_training)\n",
    "\n",
    "#print the error rate = fraction of misclassified samples\n",
    "error_rate_training = 0\n",
    "\n",
    "error_count = 0\n",
    "for i in range(len(Y_training)):\n",
    "    if predict_training[i] != Y_training[i]:\n",
    "        error_count += 1\n",
    "\n",
    "error_rate_training = error_count / len(Y_training)\n",
    "\n",
    "# error_rate_training = error_count / error_rate_training\n",
    "\n",
    "print(\"Error rate on training set: \"+str(error_rate_training))\n",
    "\n",
    "#predict on test set\n",
    "\n",
    "predict_test = logreg.predict(X_test)\n",
    "\n",
    "#print the error rate = fraction of misclassified samples\n",
    "error_rate_test = 0\n",
    "\n",
    "error_count = 0\n",
    "for i in range(len(Y_test)):\n",
    "    if predict_test[i] != Y_test[i]:\n",
    "        error_count += 1\n",
    "\n",
    "error_rate_test = error_count / len(Y_test)\n",
    "\n",
    "print(\"Error rate on test set: \" + str(error_rate_test))"
   ]
  },
  {
   "cell_type": "markdown",
   "metadata": {},
   "source": [
    "**TO DO** Now pick two features and restrict the dataset to include only two features, whose indices are specified in the $feature$ vector below. Then split into training and test. Which features are you going to select ?"
   ]
  },
  {
   "cell_type": "code",
   "execution_count": 11,
   "metadata": {},
   "outputs": [],
   "source": [
    "#to make the plot we need to reduce the data to 2D, so we choose two features\n",
    "features_list = ['height', 'weight', 'age']\n",
    "labels_list = ['Center', 'Point guard']\n",
    "\n",
    "# select a pair of features\n",
    "index_feature1 = 0 # we choose height\n",
    "index_feature2 = 1 # and weight\n",
    "features = [index_feature1, index_feature2]\n",
    "\n",
    "feature_name0 = features_list[features[0]]\n",
    "feature_name1 = features_list[features[1]]\n",
    "\n",
    "X_reduced = X[:,features]\n",
    "\n",
    "#m_training needs to be the number of samples in the training set\n",
    "m_training = int(len(X) * 0.7)\n",
    "\n",
    "#m_test needs to be the number of samples in the test set\n",
    "m_test = int(len(X) * 0.3)\n",
    "\n",
    "#X_training = instances for training set\n",
    "X_training = X_reduced[0:m_training,:]\n",
    "#Y_training = labels for the training set\n",
    "Y_training = Y[0:m_training]\n",
    "\n",
    "#X_test = instances for test set\n",
    "X_test = X_reduced[m_training:m_training + m_test,:]\n",
    "#Y_test = labels for the test set\n",
    "Y_test = Y[m_training:m_training + m_test]"
   ]
  },
  {
   "cell_type": "markdown",
   "metadata": {},
   "source": [
    "Now learn a model using the training data and measure the performances."
   ]
  },
  {
   "cell_type": "code",
   "execution_count": 12,
   "metadata": {},
   "outputs": [
    {
     "name": "stdout",
     "output_type": "stream",
     "text": [
      "Error rate on test set: 0.08974358974358974\n"
     ]
    }
   ],
   "source": [
    "# learning from training data\n",
    "logreg2 = linear_model.LogisticRegression(C=1e5)\n",
    "logreg2.fit(X_training, Y_training)\n",
    "predict_test = logreg2.predict(X_test)\n",
    "#print the error rate = fraction of misclassified samples\n",
    "error_rate_test = 0\n",
    "\n",
    "error_count = 0\n",
    "for i in range(len(Y_test)):\n",
    "    if predict_test[i] != Y_test[i]:\n",
    "        error_count += 1\n",
    "\n",
    "error_rate_test = error_count / len(Y_test)\n",
    "\n",
    "print(\"Error rate on test set: \" + str(error_rate_test))"
   ]
  },
  {
   "cell_type": "markdown",
   "metadata": {},
   "source": [
    "**TO DO** [Answer the following] Which features did you select and why ? Compare the perfromances with the ones of the case with all the 3 features and comment about the results. [The 2 features I selected are height and weight. We need the most meaningful data to get the lowest error. So after reading some information about the center and point guard roles in basketball, It is understood that among these 3 features, age is the least meaningful data to find the role of a player. The error rate of the case with all the 3 features is the same as the case with 2 features(height, weight) That means, age data has no effect on deciding the role of a basketball player between center and point guard. So It is a better choice to select height and weight rather than including age in the calculations.]\n",
    "\n",
    "**ANSWER QUESTION 3**"
   ]
  },
  {
   "cell_type": "markdown",
   "metadata": {},
   "source": [
    "If everything is ok, the code below uses the model in $logreg$ to plot the decision region for the two features chosen above, with colors denoting the predicted value. It also plots the points (with correct labels) in the training set. It makes a similar plot for the test set."
   ]
  },
  {
   "cell_type": "code",
   "execution_count": 13,
   "metadata": {
    "scrolled": true
   },
   "outputs": [
    {
     "data": {
      "image/png": "[encoded data removed]",
      "text/plain": [
       "<Figure size 288x216 with 1 Axes>"
      ]
     },
     "metadata": {},
     "output_type": "display_data"
    },
    {
     "data": {
      "image/png": "[encoded data removed]",
      "text/plain": [
       "<Figure size 288x216 with 1 Axes>"
      ]
     },
     "metadata": {},
     "output_type": "display_data"
    }
   ],
   "source": [
    "# Plot the decision boundary. For that, we will assign a color to each\n",
    "# point in the mesh [x_min, x_max]x[y_min, y_max].\n",
    "\n",
    "# NOTICE: This visualization code has been developed for a \"standard\" solution of the notebook, \n",
    "# it could be necessary to make some fixes to adapt to your implementation\n",
    "\n",
    "h = .02  # step size in the mesh\n",
    "x_min, x_max = X_reduced[:, 0].min() - .5, X_reduced[:, 0].max() + .5\n",
    "y_min, y_max = X_reduced[:, 1].min() - .5, X_reduced[:, 1].max() + .5\n",
    "xx, yy = np.meshgrid(np.arange(x_min, x_max, h), np.arange(y_min, y_max, h))\n",
    "\n",
    "Z = logreg2.predict(np.c_[xx.ravel(), yy.ravel()])\n",
    "\n",
    "# Put the result into a color plot\n",
    "Z = Z.reshape(xx.shape)\n",
    "\n",
    "plt.figure(1, figsize=(4, 3))\n",
    "plt.pcolormesh(xx, yy, Z, cmap=plt.cm.Paired)\n",
    "\n",
    "# Plot also the training points\n",
    "plt.scatter(X_training[:, 0], X_training[:, 1], c=Y_training, edgecolors='k', cmap=plt.cm.Paired)\n",
    "plt.xlabel(feature_name0)\n",
    "plt.ylabel(feature_name1)\n",
    "\n",
    "plt.xlim(xx.min(), xx.max())\n",
    "plt.ylim(yy.min(), yy.max())\n",
    "plt.xticks(())\n",
    "plt.yticks(())\n",
    "plt.title('Training set')\n",
    "\n",
    "plt.show()\n",
    "\n",
    "# Put the result into a color plot\n",
    "Z = Z.reshape(xx.shape)\n",
    "plt.figure(1, figsize=(4, 3))\n",
    "plt.pcolormesh(xx, yy, Z, cmap=plt.cm.Paired)\n",
    "\n",
    "# Plot also the test points \n",
    "plt.scatter(X_test[:, 0], X_test[:, 1], c=Y_test, edgecolors='k', cmap=plt.cm.Paired, marker='s')\n",
    "plt.xlabel(feature_name0)\n",
    "plt.ylabel(feature_name1)\n",
    "\n",
    "plt.xlim(xx.min(), xx.max())\n",
    "plt.ylim(yy.min(), yy.max())\n",
    "plt.xticks(())\n",
    "plt.yticks(())\n",
    "plt.title('Test set')\n",
    "\n",
    "plt.show()"
   ]
  },
  {
   "cell_type": "markdown",
   "metadata": {},
   "source": [
    "# 2) Linear Regression on the Boston House Price dataset\n",
    "\n",
    "Dataset description: <br>\n",
    "The Boston House Price Dataset involves the prediction of a house price in thousands of dollars given details about the house and its neighborhood.\n",
    "\n",
    "The dataset contains a total of 500 observations, which relate 13 input features to an output variable (house price).\n",
    "\n",
    "The variable names are as follows:\n",
    "\n",
    "CRIM: per capita crime rate by town.\n",
    "\n",
    "ZN: proportion of residential land zoned for lots over 25,000 sq.ft.\n",
    "\n",
    "INDUS: proportion of nonretail business acres per town.\n",
    "\n",
    "CHAS: Charles River dummy variable (= 1 if tract bounds river; 0 otherwise).\n",
    "\n",
    "NOX: nitric oxides concentration (parts per 10 million).\n",
    "\n",
    "RM: average number of rooms per dwelling.\n",
    "\n",
    "AGE: proportion of owner-occupied units built prior to 1940.\n",
    "\n",
    "DIS: weighted distances to five Boston employment centers.\n",
    "\n",
    "RAD: index of accessibility to radial highways.\n",
    "\n",
    "TAX: full-value property-tax rate per $10,000.\n",
    "\n",
    "PTRATIO: pupil-teacher ratio by town.\n",
    "\n",
    "B: 1000*(Bk – 0.63)2 where Bk is the proportion of blacks by town.\n",
    "\n",
    "LSTAT: % lower status of the population.\n",
    "\n",
    "MEDV: Median value of owner-occupied homes in $1000s.\n",
    "    "
   ]
  },
  {
   "cell_type": "code",
   "execution_count": 14,
   "metadata": {},
   "outputs": [],
   "source": [
    "#MEDV Y is MEDV, binanın parası o yani onu alıp tahmin etmen lazım. X ise ondan önceki kolonlar\n",
    "\n",
    "#needed if you get the IPython/javascript error on the in-line plots\n",
    "%matplotlib nbagg  \n",
    "\n",
    "import matplotlib.pyplot as plt\n",
    "import numpy as np\n",
    "import scipy as sp\n",
    "from scipy import stats"
   ]
  },
  {
   "cell_type": "code",
   "execution_count": 15,
   "metadata": {},
   "outputs": [
    {
     "name": "stdout",
     "output_type": "stream",
     "text": [
      "DescribeResult(nobs=500, minmax=(array([6.3200e-03, 0.0000e+00, 4.6000e-01, 0.0000e+00, 3.8500e-01,\n",
      "       3.5610e+00, 2.9000e+00, 1.1296e+00, 1.0000e+00, 1.8700e+02,\n",
      "       1.2600e+01, 3.2000e-01, 1.7300e+00, 5.0000e+01]), array([ 88.9762, 100.    ,  27.74  ,   1.    ,   0.871 ,   8.78  ,\n",
      "       100.    ,  12.1265,  24.    , 711.    ,  22.    , 396.9   ,\n",
      "        37.97  , 500.    ])), mean=array([3.65578576e+00, 1.15000000e+01, 1.11317400e+01, 7.00000000e-02,\n",
      "       5.54451400e-01, 6.28297000e+00, 6.84246000e+01, 3.81193180e+00,\n",
      "       9.64200000e+00, 4.09624000e+02, 1.84286000e+01, 3.56208040e+02,\n",
      "       1.26987400e+01, 2.25680000e+02]), variance=array([7.47252195e+01, 5.48905812e+02, 4.76198228e+01, 6.52304609e-02,\n",
      "       1.35838329e-02, 4.97618330e-01, 7.99314163e+02, 4.46304043e+00,\n",
      "       7.59617595e+01, 2.85605197e+04, 4.67663531e+00, 8.41657137e+03,\n",
      "       5.13361942e+01, 8.52982926e+03]), skewness=array([ 5.17851447,  2.19924065,  0.29469001,  3.37060575,  0.72944382,\n",
      "        0.40691344, -0.58266003,  0.99061328,  0.9886802 ,  0.65098333,\n",
      "       -0.79127942, -2.85972639,  0.89051925,  1.09625625]), kurtosis=array([36.3384518 ,  3.88460431, -1.25254394,  9.3609831 , -0.10223624,\n",
      "        1.84311394, -0.99523636,  0.43299159, -0.90519243, -1.16696682,\n",
      "       -0.30903922,  7.00864873,  0.44527324,  1.4266838 ]))\n",
      "Shape of data array: (500, 14)\n"
     ]
    }
   ],
   "source": [
    "#Import Data: Load the data from a .csv file\n",
    "\n",
    "filename = \"data/house.csv\"\n",
    "Data = np.genfromtxt(filename, delimiter=';',skip_header=1)\n",
    "\n",
    "#A quick overview of data, to inspect the data you can use the method describe()\n",
    "\n",
    "dataDescription = stats.describe(Data)\n",
    "print(dataDescription)\n",
    "print (\"Shape of data array: \" + str(Data.shape))"
   ]
  },
  {
   "cell_type": "markdown",
   "metadata": {},
   "source": [
    "# Split data in training, validation and test sets\n",
    "\n",
    "\n",
    "\n",
    "Given $m$ total data, denote with $m_{tv}$ the part used for training and validation. Keep $m_t$ data as training data, $m_{val}:=m_{tv}-m_t$ as validation data and $m_{test}:=m - m_{val} - m_t = m-m_{tv}$. For instance one can take $m_t=0.6m$ of the data as training, $m_{val}=0.2m$  validation and $m_{test}=0.2m$ as testing. Let us define as define\n",
    "\n",
    "$\\bullet$ $S_{t}$ the training data set\n",
    "\n",
    "$\\bullet$ $S_{val}$ the validation data set\n",
    "\n",
    "$\\bullet$ $S_{test}$ the testing data set\n",
    "\n",
    "\n",
    "The reason for this splitting is as follows:\n",
    "\n",
    "TRAINING DATA: The training data are used to compute the empirical loss\n",
    "$$\n",
    "L_S(h) = \\frac{1}{m_t} \\sum_{z_i \\in S_{t}} \\ell(h,z_i)\n",
    "$$\n",
    "which is used to estimate $h$ in a given model class ${\\cal H}$.\n",
    "i.e. \n",
    "$$\n",
    "\\hat{h} = {\\rm arg\\; min}_{h \\in {\\cal H}} \\, L_S(h)\n",
    "$$\n",
    "\n",
    "VALIDATION DATA: When different model classes are present (e.g. of different complexity such as linear regression which uses a different number $d_j$ of regressors $x_1$,...$x_{d_j}$), one has to choose which one is the \"best\" complexity. In this simple example the validation set is not needed, but it is better to get used with it.\n",
    "Let ${\\cal H}_{d_j}$ be the space of models as a function of the complexity $d_j$ and let \n",
    "$$\n",
    "\\hat h_{d_j} = {\\rm arg\\; min}_{h \\in {\\cal H}_{d_j}} \\, L_S(h)\n",
    "$$\n",
    "\n",
    "One can estimate the generalization error for model $\\hat h_{d_j}$ as follows:\n",
    "$$\n",
    "L_{{\\cal D}}(\\hat h_{d_j}) \\simeq \\frac{1}{m_{val}} \\sum_{ z_i \\in S_{val}} \\ell(\\hat h_{d_j},z_i)\n",
    "$$\n",
    "and then choose the complexity which achieves the best estimate of the generalization error\n",
    "$$\n",
    "\\hat d_j: = {\\rm arg\\; min}_{d_j} \\,\\frac{1}{m_{val}} \\sum_{ z_i \\in S_{val}} \\ell(\\hat h_{d_j},z_i)\n",
    "$$\n",
    "\n",
    "TESTING DATA: Last, the test data set can be used to estimate the performance of the final estimated model\n",
    "$\\hat h_{\\hat d_j}$ using:\n",
    "$$\n",
    "L_{{\\cal D}}(\\hat h_{\\hat d_j}) \\simeq \\frac{1}{m_{test}} \\sum_{ z_i \\in S_{test}} \\ell(\\hat h_{\\hat d_j},z_i)\n",
    "$$\n",
    "\n",
    "\n",
    "**TO DO**: split the data in training, validation and test sets (60%-20%-20%)"
   ]
  },
  {
   "cell_type": "code",
   "execution_count": 16,
   "metadata": {},
   "outputs": [
    {
     "name": "stdout",
     "output_type": "stream",
     "text": [
      "Total number of samples:  500\n",
      "Size of each chunk of data:  100\n",
      "Training input data size:  (300, 13)\n",
      "Training output data size:  (300, 1)\n",
      "Validation input data size:  (100, 13)\n",
      "Validation output data size:  (100, 1)\n",
      "Test input data size:  (100, 13)\n",
      "Test output data size:  (100, 1)\n"
     ]
    }
   ],
   "source": [
    "#get number of total samples\n",
    "num_total_samples = Data.shape[0]\n",
    "\n",
    "print (\"Total number of samples: \", num_total_samples)\n",
    "\n",
    "#size of each chunk of data (1/5 each): 3 of them for training, 1 for validation, 1 for testing\n",
    "size_chunk = 100\n",
    "\n",
    "print (\"Size of each chunk of data: \", size_chunk)\n",
    "\n",
    "#shuffle the data\n",
    "np.random.shuffle(Data)\n",
    "\n",
    "m_training = 3*size_chunk\n",
    "m_validation = size_chunk\n",
    "m_test = size_chunk\n",
    "#training data \n",
    "\n",
    "X_training = Data[0:m_training, 0:13]\n",
    "Y_training = Data[0:m_training, 13:14]\n",
    "print (\"Training input data size: \", X_training.shape)\n",
    "print (\"Training output data size: \", Y_training.shape)\n",
    "\n",
    "#validation u bu ödevde kullanmicaz fakat genel yazıma alışabilmek için onuda bölüp çıkartıyoruz.\n",
    "#validation data, to be used to choose among different models\n",
    "X_validation = Data[m_training:m_training+m_validation, 0:13]\n",
    "Y_validation = Data[m_training:m_training+m_validation, 13:14]\n",
    "print (\"Validation input data size: \", X_validation.shape)\n",
    "print (\"Validation output data size: \", Y_validation.shape)\n",
    "\n",
    "#test data, to be used to estimate the true loss of the final model(s)\n",
    "X_test = Data[m_training+m_validation:m_training+m_validation+m_test, 0:13]\n",
    "Y_test = Data[m_training+m_validation:m_training+m_validation+m_test, 13:14]\n",
    "print (\"Test input data size: \", X_test.shape)\n",
    "print (\"Test output data size: \", Y_test.shape)"
   ]
  },
  {
   "cell_type": "markdown",
   "metadata": {},
   "source": [
    "# Data Normalization\n",
    "It is common practice in Statistics and Machine Learning to scale the data (= each variable) so that it is centered (zero mean) and has standard deviation equal to 1. This helps in terms of numerical conditioning of the (inverse) problems of estimating the model (the coefficients of the linear regression in this case), as well as to give the same scale to all the coefficients."
   ]
  },
  {
   "cell_type": "code",
   "execution_count": 17,
   "metadata": {},
   "outputs": [
    {
     "name": "stdout",
     "output_type": "stream",
     "text": [
      "Mean of the training input data: [-2.79036054e-16  9.73295518e-17  3.92833914e-15 -1.70234197e-16\n",
      " -3.09012075e-15  3.82656869e-16  3.36397576e-16 -1.64127970e-16\n",
      " -9.39988828e-17 -7.14243479e-17  1.87096808e-14  1.52785192e-15\n",
      " -5.47270562e-16]\n",
      "Std of the training input data: [1. 1. 1. 1. 1. 1. 1. 1. 1. 1. 1. 1. 1.]\n",
      "Mean of the validation input data: [ 0.0402705   0.00792114  0.03760647  0.17371981  0.03991599 -0.04204994\n",
      "  0.03992702 -0.04803372 -0.01304212 -0.03221001 -0.09094401  0.06175091\n",
      "  0.11173667]\n",
      "Std of the validation input data: [1.04690002 1.05293166 1.05279006 1.25434958 1.08273849 1.01781414\n",
      " 0.9675928  1.05589141 1.0197871  1.01669965 0.95826564 0.9031978\n",
      " 1.0540435 ]\n",
      "Mean of the test input data: [ 0.0221604   0.06028866 -0.00647998 -0.1069045  -0.02565231  0.07327799\n",
      " -0.02174137 -0.08460108 -0.05101771 -0.07454485 -0.05150401  0.06607031\n",
      "  0.04592156]\n",
      "Std of the test input data: [0.82583801 1.09218722 1.02948957 0.7855844  0.90445281 1.04858383\n",
      " 1.0986206  0.9963357  0.98882289 0.97894302 1.04837929 0.91690016\n",
      " 1.1142605 ]\n"
     ]
    }
   ],
   "source": [
    "#scale the data\n",
    "\n",
    "# standardize the input matrix\n",
    "from sklearn import preprocessing\n",
    "# the transformation is computed on training data and then used on all the 3 sets\n",
    "scaler = preprocessing.StandardScaler().fit(X_training) \n",
    "\n",
    "X_training = scaler.transform(X_training)\n",
    "print (\"Mean of the training input data:\", X_training.mean(axis=0))\n",
    "print (\"Std of the training input data:\",X_training.std(axis=0))\n",
    "\n",
    "X_validation = scaler.transform(X_validation) # use the same transformation on validation data\n",
    "print (\"Mean of the validation input data:\", X_validation.mean(axis=0))\n",
    "print (\"Std of the validation input data:\", X_validation.std(axis=0))\n",
    "\n",
    "X_test = scaler.transform(X_test) # use the same transformation on test data\n",
    "print (\"Mean of the test input data:\", X_test.mean(axis=0))\n",
    "print (\"Std of the test input data:\", X_test.std(axis=0))"
   ]
  },
  {
   "cell_type": "markdown",
   "metadata": {},
   "source": [
    "# Model Training \n",
    "\n",
    "The model is trained (= estimated) minimizing the empirical error\n",
    "$$\n",
    "L_S(h) := \\frac{1}{m_t} \\sum_{z_i \\in S_{t}} \\ell(h,z_i)\n",
    "$$\n",
    "When the loss function is the quadratic loss\n",
    "$$\n",
    "\\ell(h,z) := (y - h(x))^2\n",
    "$$\n",
    "we define  the Residual Sum of Squares (RSS) as\n",
    "$$\n",
    "RSS(h):= \\sum_{z_i \\in S_{t}} \\ell(h,z_i) = \\sum_{z_i \\in S_{t}} (y_i - h(x_i))^2\n",
    "$$ so that the training error becomes\n",
    "$$\n",
    "L_S(h) = \\frac{RSS(h)}{m_t}\n",
    "$$\n",
    "\n",
    "We recal that, for linear models we have $h(x) = <w,x>$ and the Empirical error $L_S(h)$ can be written\n",
    "in terms of the vector of parameters $w$ in the form\n",
    "$$\n",
    "L_S(w) = \\frac{1}{m_t} \\|Y - X w\\|^2\n",
    "$$\n",
    "where $Y$ and $X$ are the matrices whose $i-$th row are, respectively, the output data $y_i$ and the input vectors $x_i^\\top$.\n",
    "\n",
    "\n",
    " **TO DO:** compute the linear regression coefficients using np.linalg.lstsq from scikitlear \n",
    " "
   ]
  },
  {
   "cell_type": "code",
   "execution_count": 18,
   "metadata": {},
   "outputs": [
    {
     "name": "stdout",
     "output_type": "stream",
     "text": [
      "LS coefficients with numpy lstsq: [[225.02666667]\n",
      " [-11.38869486]\n",
      " [ 15.30811529]\n",
      " [  1.05903966]\n",
      " [  8.47630198]\n",
      " [-21.83639528]\n",
      " [ 17.90113898]\n",
      " [  3.17359351]\n",
      " [-38.42530712]\n",
      " [ 25.69991634]\n",
      " [-18.14346755]\n",
      " [-21.70811671]\n",
      " [  7.76690766]\n",
      " [-45.97583839]]\n",
      "RSS with hand:  [707455.73123153]\n",
      "RSS with numpy lstsq:  [707455.73123153]\n",
      "Empirical risk with numpy lstsq: [2358.18577077]\n"
     ]
    }
   ],
   "source": [
    "#compute linear regression coefficients for training data\n",
    "\n",
    "\n",
    "#add a 1 at the beginning of each sample for training, validation, and testing (use homogeneous coordinates)\n",
    "m_training = X_training.shape[0]\n",
    "X_trainingH = np.hstack((np.ones((m_training,1)),X_training)) # H: in homogeneous coordinates\n",
    "#print X_training[0,:]\n",
    "\n",
    "m_validation = X_validation.shape[0]\n",
    "X_validationH = np.hstack((np.ones((m_validation,1)),X_validation))  # H: in homogeneous coordinates\n",
    "#print X_validation[0,:]\n",
    "\n",
    "m_test = X_test.shape[0]\n",
    "X_testH = np.hstack((np.ones((m_test,1)),X_test))  # H: in homogeneous coordinates\n",
    "#print X_test[0,:]   \n",
    "\n",
    "from scipy.linalg import lstsq\n",
    "# Compute the least-squares coefficients using linalg.lstsq\n",
    "#linalg.lstsq bu fonksiyon bayes estimation yapmıyor\n",
    "w_np, RSStr_np, rank_Xtr, sv_Xtr = lstsq(X_trainingH, Y_training)\n",
    "print(\"LS coefficients with numpy lstsq:\", w_np)\n",
    "\n",
    "# compute Residual sums of squares \n",
    "\n",
    "prediction_training = []\n",
    "coef = np.squeeze(np.asarray(w_np[1:14]))\n",
    "for i in range(len(X_training)):\n",
    "    x = np.squeeze(np.asarray(X_trainingH[i][1:14]))\n",
    "    prediction = np.dot(coef, x) + w_np[0]\n",
    "    prediction_training.append(prediction)\n",
    "\n",
    "RSStr_hand = 0\n",
    "for i in range(len(prediction_training)):\n",
    "    RSStr_hand = RSStr_hand + ((Y_training[i] - prediction_training[i]) * (Y_training[i] - prediction_training[i]))    \n",
    "\n",
    "print(\"RSS with hand: \", RSStr_hand)\n",
    "print(\"RSS with numpy lstsq: \", RSStr_np)\n",
    "print(\"Empirical risk with numpy lstsq:\", RSStr_np/m_training)"
   ]
  },
  {
   "cell_type": "markdown",
   "metadata": {},
   "source": [
    "## Data prediction \n",
    "\n",
    "Compute the output predictions on both training and validation set and compute the Residual Sum of Sqaures (RSS). \n",
    "\n",
    "**TO DO**: Compute these quantities on  training, validation and test sets."
   ]
  },
  {
   "cell_type": "code",
   "execution_count": 19,
   "metadata": {},
   "outputs": [
    {
     "name": "stdout",
     "output_type": "stream",
     "text": [
      "RSS on validation data: [176402.24992946]\n",
      "Loss estimated from validation data: [1764.02249929]\n",
      "RSS on test data: [243280.03787775]\n",
      "Loss estimated from test data: [2432.80037878]\n"
     ]
    }
   ],
   "source": [
    "#compute predictions on training and validation\n",
    "\n",
    "#prediction_training \n",
    "\n",
    "prediction_training = []\n",
    "prediction_validation = []\n",
    "prediction_test = []\n",
    "coef = np.squeeze(np.asarray(w_np[1:14]))\n",
    "\n",
    "for i in range(len(X_training)):\n",
    "    x = np.squeeze(np.asarray(X_trainingH[i][1:14]))\n",
    "    prediction = np.dot(coef, x) + w_np[0]\n",
    "    prediction_training.append(prediction)\n",
    "\n",
    "for i in range(len(X_validation)):\n",
    "    x = np.squeeze(np.asarray(X_validationH[i][1:14]))\n",
    "    prediction = np.dot(coef, x) + w_np[0]\n",
    "    prediction_validation.append(prediction)\n",
    "    \n",
    "for i in range(len(X_test)):\n",
    "    x = np.squeeze(np.asarray(X_testH[i][1:14]))\n",
    "    prediction = np.dot(coef, x) + w_np[0]\n",
    "    prediction_test.append(prediction)\n",
    "\n",
    "#what about the loss for points in the validation data?\n",
    "\n",
    "RSS_validation = 0\n",
    "for i in range(len(prediction_validation)):\n",
    "    RSS_validation = RSS_validation + ((Y_validation[i] - prediction_validation[i]) * (Y_validation[i] - prediction_validation[i]))\n",
    "    \n",
    "RSS_test = 0\n",
    "for i in range(len(prediction_test)):\n",
    "    RSS_test = RSS_test + ((Y_test[i] - prediction_test[i]) * (Y_test[i] - prediction_test[i]))\n",
    "\n",
    "print(\"RSS on validation data:\",  RSS_validation)\n",
    "print(\"Loss estimated from validation data:\", RSS_validation/m_validation)\n",
    "\n",
    "print(\"RSS on test data:\",  RSS_test)\n",
    "print(\"Loss estimated from test data:\", RSS_test/m_test)"
   ]
  },
  {
   "cell_type": "markdown",
   "metadata": {},
   "source": [
    "### QUESTION 4: Comment on the results you get and on the difference between the train, validation and test errors.\n",
    "\n",
    "Loss estimated from training data: [2358.18577077]\n",
    "\n",
    "Loss estimated from validation data: [1764.02249929]\n",
    "\n",
    "Loss estimated from test data: [2432.80037878]\n",
    "\n",
    "\n",
    "It is seen that the estimated loss from training and test data is really close to each other while the loss of validation data is a lot lower than them. Even validation loss is a lot lower than validation and training, still, the loss of them is really high. So that means, our computation needs some changes. For a usable and sensible prediction, we would need better results from our test data. Even the loss estimated from training data is too high for good predictions."
   ]
  },
  {
   "cell_type": "markdown",
   "metadata": {},
   "source": [
    "## Ordinary Least-Squares using scikit-learn\n",
    "Another fast way to compute the LS estimate is through sklearn.linear_model (for this function homogeneous coordinates are not needed)."
   ]
  },
  {
   "cell_type": "code",
   "execution_count": 20,
   "metadata": {},
   "outputs": [
    {
     "name": "stdout",
     "output_type": "stream",
     "text": [
      "Intercept: [225.02666667]\n",
      "Least-Squares Coefficients: [[-11.38869486  15.30811529   1.05903966   8.47630198 -21.83639528\n",
      "   17.90113898   3.17359351 -38.42530712  25.69991634 -18.14346755\n",
      "  -21.70811671   7.76690766 -45.97583839]]\n",
      "Measure on training data: 0.27339321291509844\n"
     ]
    }
   ],
   "source": [
    "from sklearn import linear_model\n",
    "\n",
    "#fit intercept mi ne onu kullanarak bayes i hesaba katıp katmicağımızı seçebiliyoruz\n",
    "# build the LinearRegression() model and train it\n",
    "LinReg = linear_model.LinearRegression()\n",
    "\n",
    "LinReg.fit(X_training, Y_training)\n",
    "\n",
    "print(\"Intercept:\", LinReg.intercept_)\n",
    "print(\"Least-Squares Coefficients:\", LinReg.coef_)\n",
    "\n",
    "# predict output values on training and test sets\n",
    "\n",
    "LinReg_training_pred = LinReg.predict(X_training)\n",
    "LinReg_validation_pred = LinReg.predict(X_validation)\n",
    "LinReg_test_pred = LinReg.predict(X_test)\n",
    "\n",
    "# return a prediction score based on the coefficient of determination\n",
    "print(\"Measure on training data:\", 1-LinReg.score(X_training, Y_training))\n",
    "\n",
    "#rss = 0\n",
    "#for i in range(len(LinReg_training_pred)):\n",
    "#    rss = rss + ((Y_training[i] - LinReg_training_pred[i]) * (Y_training[i] - LinReg_training_pred[i]))\n",
    "#print(rss)"
   ]
  },
  {
   "cell_type": "code",
   "execution_count": null,
   "metadata": {},
   "outputs": [],
   "source": []
  }
 ],
 "metadata": {
  "anaconda-cloud": {},
  "kernelspec": {
   "display_name": "Python 3",
   "language": "python",
   "name": "python3"
  },
  "language_info": {
   "codemirror_mode": {
    "name": "ipython",
    "version": 3
   },
   "file_extension": ".py",
   "mimetype": "text/x-python",
   "name": "python",
   "nbconvert_exporter": "python",
   "pygments_lexer": "ipython3",
   "version": "3.7.6"
  }
 },
 "nbformat": 4,
 "nbformat_minor": 2
}
